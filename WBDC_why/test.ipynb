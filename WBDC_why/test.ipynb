{
 "cells": [
  {
   "cell_type": "code",
   "execution_count": 2,
   "metadata": {},
   "outputs": [],
   "source": [
    "import torch\n",
    "import json\n",
    "from tqdm import tqdm\n",
    "from torch.utils.data import SequentialSampler, DataLoader\n",
    "\n",
    "from config import parse_args\n",
    "from data_helper import MultiModalDataset\n",
    "from category_id_map import lv2id_to_category_id\n",
    "from model import UniBertMultiModal"
   ]
  },
  {
   "cell_type": "markdown",
   "metadata": {},
   "source": [
    "# Roberta Base"
   ]
  },
  {
   "cell_type": "code",
   "execution_count": 3,
   "metadata": {},
   "outputs": [
    {
     "name": "stdout",
     "output_type": "stream",
     "text": [
      "0.6807\n",
      "0.6778\n",
      "0.6742\n",
      "0.6779\n",
      "0.674\n"
     ]
    },
    {
     "data": {
      "text/plain": [
       "0.6769199999999999"
      ]
     },
     "execution_count": 3,
     "metadata": {},
     "output_type": "execute_result"
    }
   ],
   "source": [
    "mean = 0\n",
    "for i in range(5):\n",
    "    savedmodel_path = 'save/dualbert_roberta_base_fd6_fh12/fgm_ema_mask_sl_384_lr5e-5/'\n",
    "    ckpt_file = 'dualbert_best_mean_f1'\n",
    "    checkpoint = torch.load(f'{savedmodel_path}/{ckpt_file}_fold{i}.bin', map_location='cpu')\n",
    "    print(checkpoint['mean_f1'])\n",
    "    mean += checkpoint['mean_f1']\n",
    "\n",
    "mean/5"
   ]
  },
  {
   "cell_type": "code",
   "execution_count": 7,
   "metadata": {},
   "outputs": [
    {
     "name": "stdout",
     "output_type": "stream",
     "text": [
      "0.6718\n",
      "0.6696\n",
      "0.67\n",
      "0.6712\n",
      "0.6736\n"
     ]
    },
    {
     "data": {
      "text/plain": [
       "0.67124"
      ]
     },
     "execution_count": 7,
     "metadata": {},
     "output_type": "execute_result"
    }
   ],
   "source": [
    "mean = 0\n",
    "for i in range(5):\n",
    "    savedmodel_path = 'save/unibert_roberta_base_fd6_fh12/fgm_ema_mask_sl_384_lr5e-5/'\n",
    "    ckpt_file = 'unibert_best_mean_f1'\n",
    "    checkpoint = torch.load(f'{savedmodel_path}/{ckpt_file}_fold{i}.bin', map_location='cpu')\n",
    "    print(checkpoint['mean_f1'])\n",
    "    mean += checkpoint['mean_f1']\n",
    "\n",
    "mean/5"
   ]
  },
  {
   "cell_type": "code",
   "execution_count": 5,
   "metadata": {},
   "outputs": [],
   "source": [
    "# for i in range(3):\n",
    "#     savedmodel_path = 'save/lxmert_roberta_base_vd6_vh12_vm4_fd6_fh12/fgm_ema_mask_sl_384_lr5e-5/'\n",
    "#     ckpt_file = 'lxmert_best_mean_f1'\n",
    "#     checkpoint = torch.load(f'{savedmodel_path}/{ckpt_file}_fold{i}.bin', map_location='cpu')\n",
    "#     print(checkpoint['epoch'])\n",
    "#     print(checkpoint['mean_f1'])"
   ]
  },
  {
   "cell_type": "code",
   "execution_count": 8,
   "metadata": {},
   "outputs": [],
   "source": [
    "import numpy as np\n",
    "a = np.random.rand(2, 200)\n",
    "b = np.random.rand(2, 200)\n",
    "q = []\n",
    "q.extend(a)\n",
    "q.extend(b)"
   ]
  },
  {
   "cell_type": "code",
   "execution_count": 10,
   "metadata": {},
   "outputs": [
    {
     "data": {
      "text/plain": [
       "(2, 200)"
      ]
     },
     "execution_count": 10,
     "metadata": {},
     "output_type": "execute_result"
    }
   ],
   "source": [
    "a.shape"
   ]
  },
  {
   "cell_type": "code",
   "execution_count": 14,
   "metadata": {},
   "outputs": [],
   "source": [
    "q = np.array(q)"
   ]
  },
  {
   "cell_type": "code",
   "execution_count": 15,
   "metadata": {},
   "outputs": [
    {
     "data": {
      "text/plain": [
       "(4, 200)"
      ]
     },
     "execution_count": 15,
     "metadata": {},
     "output_type": "execute_result"
    }
   ],
   "source": [
    "q.shape"
   ]
  }
 ],
 "metadata": {
  "kernelspec": {
   "display_name": "Python 3",
   "language": "python",
   "name": "python3"
  },
  "language_info": {
   "codemirror_mode": {
    "name": "ipython",
    "version": 3
   },
   "file_extension": ".py",
   "mimetype": "text/x-python",
   "name": "python",
   "nbconvert_exporter": "python",
   "pygments_lexer": "ipython3",
   "version": "3.7.6"
  }
 },
 "nbformat": 4,
 "nbformat_minor": 4
}
