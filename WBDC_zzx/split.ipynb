{
 "cells": [
  {
   "cell_type": "code",
   "execution_count": 12,
   "metadata": {},
   "outputs": [],
   "source": [
    "import json\n",
    "from collections import Counter\n",
    "from tqdm import tqdm\n",
    "from random import sample, seed\n"
   ]
  },
  {
   "cell_type": "code",
   "execution_count": 2,
   "metadata": {},
   "outputs": [],
   "source": [
    "with open('./data/annotations/labeled.json') as f:\n",
    "    a = json.load(f)\n",
    "    "
   ]
  },
  {
   "cell_type": "code",
   "execution_count": 10,
   "metadata": {},
   "outputs": [
    {
     "name": "stderr",
     "output_type": "stream",
     "text": [
      "100%|██████████| 100000/100000 [00:00<00:00, 750993.10it/s]"
     ]
    },
    {
     "name": "stdout",
     "output_type": "stream",
     "text": [
      "Counter({'1305': 10656, '1704': 6117, '1203': 5313, '1103': 4700, '1800': 4325, '1100': 3297, '1806': 3233, '1201': 2971, '1901': 2919, '0402': 2186, '1002': 2170, '2204': 1944, '0705': 1531, '1308': 1477, '1503': 1331, '0804': 1268, '1904': 1091, '1104': 969, '0703': 938, '0803': 929, '2222': 910, '1803': 882, '1502': 784, '1205': 774, '1306': 767, '0302': 755, '2000': 734, '2221': 717, '1905': 709, '1903': 704, '1102': 699, '2206': 682, '2207': 673, '1501': 639, '1400': 619, '1805': 617, '1606': 605, '0906': 580, '1003': 566, '2217': 548, '1708': 520, '1000': 509, '0000': 502, '2107': 502, '1603': 498, '2106': 484, '1302': 478, '1702': 476, '1902': 473, '0305': 465, '1609': 443, '1506': 440, '2213': 437, '0905': 429, '2210': 425, '1604': 418, '0805': 401, '1701': 386, '0301': 381, '1309': 373, '1802': 368, '1200': 358, '1402': 347, '2004': 345, '0005': 328, '0103': 322, '0104': 317, '2211': 312, '0701': 311, '0403': 307, '0800': 285, '0405': 282, '2201': 280, '1706': 270, '1601': 263, '2200': 261, '1707': 250, '1610': 247, '1401': 241, '2202': 232, '2118': 226, '0007': 214, '0401': 213, '1801': 208, '0004': 206, '2220': 206, '2216': 205, '0208': 199, '1705': 196, '2012': 192, '0904': 190, '2101': 189, '1607': 188, '2203': 187, '2121': 180, '0404': 179, '0801': 176, '0204': 175, '2123': 175, '1700': 173, '1202': 163, '0602': 160, '1303': 159, '2119': 153, '2105': 148, '0802': 147, '0702': 143, '2209': 141, '0304': 140, '1403': 135, '1507': 131, '2214': 129, '0400': 129, '2011': 128, '0101': 126, '1300': 126, '1703': 125, '2001': 125, '2212': 121, '2007': 121, '1509': 121, '1311': 120, '0100': 117, '2208': 116, '1105': 116, '2218': 115, '1101': 112, '0006': 109, '1900': 109, '2219': 106, '2215': 104, '0207': 104, '2104': 99, '1001': 99, '1602': 99, '2014': 92, '0600': 88, '2205': 86, '1600': 84, '2103': 83, '1608': 82, '0601': 80, '0500': 76, '0300': 74, '0700': 73, '1304': 73, '0704': 73, '1508': 72, '1804': 71, '1605': 69, '2120': 66, '0502': 64, '2005': 63, '1307': 63, '0200': 63, '0501': 62, '1204': 62, '2114': 60, '2122': 59, '2112': 58, '2111': 58, '0303': 57, '0003': 54, '0008': 52, '1504': 52, '2009': 51, '0201': 51, '2003': 50, '1500': 50, '0102': 50, '1310': 49, '2117': 49, '2109': 49, '0002': 49, '2116': 48, '0903': 47, '2110': 45, '1505': 45, '0206': 44, '0900': 43, '0902': 42, '0907': 41, '0203': 40, '0205': 40, '2115': 38, '2223': 38, '2108': 36, '0901': 36, '1301': 35, '0202': 33, '2013': 32, '2008': 31, '2100': 31, '2006': 30, '0001': 30, '2010': 27, '2113': 25, '2002': 24, '2015': 20, '2102': 14})\n",
      "200\n"
     ]
    },
    {
     "name": "stderr",
     "output_type": "stream",
     "text": [
      "\n"
     ]
    }
   ],
   "source": [
    "counter = Counter()\n",
    "\n",
    "for d in tqdm(a):\n",
    "    counter[d['category_id']] += 1\n",
    "    \n",
    "print(counter)\n",
    "print(len(counter))"
   ]
  },
  {
   "cell_type": "code",
   "execution_count": 14,
   "metadata": {},
   "outputs": [
    {
     "name": "stderr",
     "output_type": "stream",
     "text": [
      "100%|██████████| 100000/100000 [00:00<00:00, 964822.20it/s]\n"
     ]
    },
    {
     "name": "stdout",
     "output_type": "stream",
     "text": [
      "train length:90038 val length:9962\n"
     ]
    }
   ],
   "source": [
    "# 每个类别至少取5个到验证集\n",
    "seed(2022)\n",
    "res = {}\n",
    "for d in tqdm(a):\n",
    "    id = d['category_id']\n",
    "    if id not in res:\n",
    "        res[id] = []\n",
    "        \n",
    "    res[id].append(d)\n",
    "\n",
    "train = []\n",
    "val = []\n",
    "for k, v in res.items():\n",
    "    val_num = max(5, int(len(v) * 0.1))\n",
    "    idxs = list(range(len(v)))\n",
    "    val_idxs = sample(idxs, val_num)\n",
    "    for idx in idxs:\n",
    "        if idx in val_idxs:\n",
    "            val.append(v[idx])\n",
    "        else:\n",
    "            train.append(v[idx])\n",
    "            \n",
    "print(f'train length:{len(train)} val length:{len(val)}')\n",
    "\n",
    "with open('./data/annotations/labeled_train0.9.json', 'w') as outf:\n",
    "    json.dump(train, outf, ensure_ascii=False, indent=2)\n",
    "\n",
    "with open('./data/annotations/labeled_val0.1.json', 'w') as outf:\n",
    "    json.dump(val, outf, ensure_ascii=False, indent=2)"
   ]
  },
  {
   "cell_type": "code",
   "execution_count": null,
   "metadata": {},
   "outputs": [],
   "source": []
  }
 ],
 "metadata": {
  "interpreter": {
   "hash": "da3e118042d3446996158c23a8e2bb16a9f8dfd54ebe9a14cb5c797fe97b20a1"
  },
  "kernelspec": {
   "display_name": "Python 3.7.6 ('base')",
   "language": "python",
   "name": "python3"
  },
  "language_info": {
   "codemirror_mode": {
    "name": "ipython",
    "version": 3
   },
   "file_extension": ".py",
   "mimetype": "text/x-python",
   "name": "python",
   "nbconvert_exporter": "python",
   "pygments_lexer": "ipython3",
   "version": "3.7.6"
  },
  "orig_nbformat": 4
 },
 "nbformat": 4,
 "nbformat_minor": 2
}
